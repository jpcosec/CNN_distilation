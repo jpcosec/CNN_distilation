{
 "cells": [
  {
   "cell_type": "raw",
   "metadata": {},
   "source": []
  },
  {
   "cell_type": "code",
   "execution_count": 1,
   "metadata": {},
   "outputs": [],
   "source": [
    "import numpy as np\n",
    "import matplotlib.pyplot as plt"
   ]
  },
  {
   "cell_type": "code",
   "execution_count": 2,
   "metadata": {},
   "outputs": [],
   "source": [
    "sizes=[10,100,500,1000,10000]"
   ]
  },
  {
   "cell_type": "code",
   "execution_count": 3,
   "metadata": {},
   "outputs": [],
   "source": [
    "%matplotlib inline\n"
   ]
  },
  {
   "cell_type": "code",
   "execution_count": 4,
   "metadata": {},
   "outputs": [
    {
     "ename": "FileNotFoundError",
     "evalue": "[Errno 2] No such file or directory: 'c5u10.npy'",
     "output_type": "error",
     "traceback": [
      "\u001b[1;31m---------------------------------------------------------------------------\u001b[0m",
      "\u001b[1;31mFileNotFoundError\u001b[0m                         Traceback (most recent call last)",
      "\u001b[1;32m<ipython-input-4-046b02b1f2ad>\u001b[0m in \u001b[0;36m<module>\u001b[1;34m\u001b[0m\n\u001b[0;32m      1\u001b[0m \u001b[0mplt\u001b[0m\u001b[1;33m.\u001b[0m\u001b[0mfigure\u001b[0m\u001b[1;33m(\u001b[0m\u001b[0mfigsize\u001b[0m\u001b[1;33m=\u001b[0m\u001b[1;33m(\u001b[0m\u001b[1;36m10\u001b[0m\u001b[1;33m,\u001b[0m\u001b[1;36m6\u001b[0m\u001b[1;33m)\u001b[0m\u001b[1;33m)\u001b[0m\u001b[1;33m\u001b[0m\u001b[1;33m\u001b[0m\u001b[0m\n\u001b[0;32m      2\u001b[0m \u001b[1;32mfor\u001b[0m \u001b[0ms\u001b[0m \u001b[1;32min\u001b[0m \u001b[0msizes\u001b[0m\u001b[1;33m:\u001b[0m\u001b[1;33m\u001b[0m\u001b[1;33m\u001b[0m\u001b[0m\n\u001b[1;32m----> 3\u001b[1;33m     \u001b[0mplt\u001b[0m\u001b[1;33m.\u001b[0m\u001b[0msemilogy\u001b[0m\u001b[1;33m(\u001b[0m\u001b[0mnp\u001b[0m\u001b[1;33m.\u001b[0m\u001b[0mload\u001b[0m\u001b[1;33m(\u001b[0m\u001b[1;34m\"c5u\"\u001b[0m\u001b[1;33m+\u001b[0m\u001b[0mstr\u001b[0m\u001b[1;33m(\u001b[0m\u001b[0ms\u001b[0m\u001b[1;33m)\u001b[0m \u001b[1;33m+\u001b[0m \u001b[1;34m\".npy\"\u001b[0m\u001b[1;33m)\u001b[0m\u001b[1;33m,\u001b[0m \u001b[0mlabel\u001b[0m\u001b[1;33m=\u001b[0m\u001b[0mstr\u001b[0m\u001b[1;33m(\u001b[0m\u001b[0ms\u001b[0m\u001b[1;33m)\u001b[0m\u001b[1;33m)\u001b[0m\u001b[1;33m\u001b[0m\u001b[1;33m\u001b[0m\u001b[0m\n\u001b[0m\u001b[0;32m      4\u001b[0m \u001b[0mplt\u001b[0m\u001b[1;33m.\u001b[0m\u001b[0mlegend\u001b[0m\u001b[1;33m(\u001b[0m\u001b[1;33m)\u001b[0m\u001b[1;33m\u001b[0m\u001b[1;33m\u001b[0m\u001b[0m\n\u001b[0;32m      5\u001b[0m \u001b[0mplt\u001b[0m\u001b[1;33m.\u001b[0m\u001b[0mxlabel\u001b[0m\u001b[1;33m(\u001b[0m\u001b[1;34m\"Epocas\"\u001b[0m\u001b[1;33m)\u001b[0m\u001b[1;33m\u001b[0m\u001b[1;33m\u001b[0m\u001b[0m\n",
      "\u001b[1;32m~\\.conda\\envs\\tensorflow-probability\\lib\\site-packages\\numpy\\lib\\npyio.py\u001b[0m in \u001b[0;36mload\u001b[1;34m(file, mmap_mode, allow_pickle, fix_imports, encoding)\u001b[0m\n\u001b[0;32m    420\u001b[0m         \u001b[0mown_fid\u001b[0m \u001b[1;33m=\u001b[0m \u001b[1;32mFalse\u001b[0m\u001b[1;33m\u001b[0m\u001b[1;33m\u001b[0m\u001b[0m\n\u001b[0;32m    421\u001b[0m     \u001b[1;32melse\u001b[0m\u001b[1;33m:\u001b[0m\u001b[1;33m\u001b[0m\u001b[1;33m\u001b[0m\u001b[0m\n\u001b[1;32m--> 422\u001b[1;33m         \u001b[0mfid\u001b[0m \u001b[1;33m=\u001b[0m \u001b[0mopen\u001b[0m\u001b[1;33m(\u001b[0m\u001b[0mos_fspath\u001b[0m\u001b[1;33m(\u001b[0m\u001b[0mfile\u001b[0m\u001b[1;33m)\u001b[0m\u001b[1;33m,\u001b[0m \u001b[1;34m\"rb\"\u001b[0m\u001b[1;33m)\u001b[0m\u001b[1;33m\u001b[0m\u001b[1;33m\u001b[0m\u001b[0m\n\u001b[0m\u001b[0;32m    423\u001b[0m         \u001b[0mown_fid\u001b[0m \u001b[1;33m=\u001b[0m \u001b[1;32mTrue\u001b[0m\u001b[1;33m\u001b[0m\u001b[1;33m\u001b[0m\u001b[0m\n\u001b[0;32m    424\u001b[0m \u001b[1;33m\u001b[0m\u001b[0m\n",
      "\u001b[1;31mFileNotFoundError\u001b[0m: [Errno 2] No such file or directory: 'c5u10.npy'"
     ]
    },
    {
     "data": {
      "text/plain": [
       "<Figure size 720x432 with 0 Axes>"
      ]
     },
     "metadata": {},
     "output_type": "display_data"
    }
   ],
   "source": [
    "plt.figure(figsize=(10,6))\n",
    "for s in sizes:\n",
    "    plt.semilogy(np.load(\"c5u\"+str(s) + \".npy\"), label=str(s))\n",
    "plt.legend()\n",
    "plt.xlabel(\"Epocas\")\n",
    "plt.ylabel(\"Log de error cuadrático medio\")\n",
    "plt.savefig(\"loss_plot.png\")\n"
   ]
  },
  {
   "cell_type": "code",
   "execution_count": 5,
   "metadata": {},
   "outputs": [],
   "source": [
    "text=[\n",
    "      \"_________________________________________________________________\\n\",\n",
    "      \"Layer (type)                 Output Shape              Param #   \\n\",\n",
    "      \"=================================================================\\n\",\n",
    "      \"input_4 (InputLayer)         (None, 28, 28, 1)         0         \\n\",\n",
    "      \"_________________________________________________________________\\n\",\n",
    "      \"conv2d_4 (Conv2D)            (None, 28, 28, 32)        832       \\n\",\n",
    "      \"_________________________________________________________________\\n\",\n",
    "      \"max_pooling2d_2 (MaxPooling2 (None, 14, 14, 32)        0         \\n\",\n",
    "      \"_________________________________________________________________\\n\",\n",
    "      \"conv2d_5 (Conv2D)            (None, 14, 14, 64)        51264     \\n\",\n",
    "      \"_________________________________________________________________\\n\",\n",
    "      \"max_pooling2d_3 (MaxPooling2 (None, 7, 7, 64)          0         \\n\",\n",
    "      \"_________________________________________________________________\\n\",\n",
    "      \"conv2d_6 (Conv2D)            (None, 7, 7, 128)         204928    \\n\",\n",
    "      \"_________________________________________________________________\\n\",\n",
    "      \"flatten_1 (Flatten)          (None, 6272)              0         \\n\",\n",
    "      \"_________________________________________________________________\\n\",\n",
    "      \"dense_3 (Dense)              (None, 84)                526932    \\n\",\n",
    "      \"_________________________________________________________________\\n\",\n",
    "      \"dropout_1 (Dropout)          (None, 84)                0         \\n\",\n",
    "      \"_________________________________________________________________\\n\",\n",
    "      \"dense_4 (Dense)              (None, 10)                850       \\n\",\n",
    "      \"=================================================================\\n\",\n",
    "      \"Total params: 784,806\\n\",\n",
    "      \"Trainable params: 784,806\\n\",\n",
    "      \"Non-trainable params: 0\\n\",\n",
    "      \"_________________________________________________________________\\n\"]"
   ]
  },
  {
   "cell_type": "code",
   "execution_count": 6,
   "metadata": {},
   "outputs": [
    {
     "name": "stdout",
     "output_type": "stream",
     "text": [
      "_______________________________________________________________\n",
      "Layer (type)                 Output Shape              Param # \n",
      "===============================================================\n",
      "input_4 (InputLayer)         (None, 28, 28, 1)         0       \n",
      "_______________________________________________________________\n",
      "conv2d_4 (Conv2D)            (None, 28, 28, 32)        832     \n",
      "_______________________________________________________________\n",
      "max_pooling2d_2 (MaxPooling2 (None, 14, 14, 32)        0       \n",
      "_______________________________________________________________\n",
      "conv2d_5 (Conv2D)            (None, 14, 14, 64)        51264   \n",
      "_______________________________________________________________\n",
      "max_pooling2d_3 (MaxPooling2 (None, 7, 7, 64)          0       \n",
      "_______________________________________________________________\n",
      "conv2d_6 (Conv2D)            (None, 7, 7, 128)         204928  \n",
      "_______________________________________________________________\n",
      "flatten_1 (Flatten)          (None, 6272)              0       \n",
      "_______________________________________________________________\n",
      "dense_3 (Dense)              (None, 84)                526932  \n",
      "_______________________________________________________________\n",
      "dropout_1 (Dropout)          (None, 84)                0       \n",
      "_______________________________________________________________\n",
      "dense_4 (Dense)              (None, 10)                850     \n",
      "===============================================================\n",
      "Total params: 784,8\n",
      "Trainable params: 784,8\n",
      "Non-trainable params:\n",
      "_______________________________________________________________\n"
     ]
    }
   ],
   "source": [
    "for line in text:\n",
    "    print( line[:-3])"
   ]
  },
  {
   "cell_type": "code",
   "execution_count": 8,
   "metadata": {},
   "outputs": [
    {
     "name": "stdout",
     "output_type": "stream",
     "text": [
      "(115,) [10, 100, 500, 780, 790, 1000]\n",
      "(115,) [10, 100, 500, 780, 790, 1000]\n",
      "(110,) [10, 100, 500, 780, 790, 1000]\n",
      "(106,) [10, 100, 500, 780, 790, 1000]\n",
      "(107,) [10, 100, 500, 780, 790, 1000]\n",
      "(163,) [10, 100, 500, 780, 790, 1000]\n",
      "(199,) [10, 100, 500, 780, 790, 1000]\n",
      "(199,) [10, 100, 500, 780, 790, 1000]\n",
      "(199,) [10, 100, 500, 780, 790, 1000]\n",
      "(199,) [10, 100, 500, 780, 790, 1000]\n",
      "(99,) [10, 100, 500, 780, 790, 1000]\n",
      "(99,) [10, 100, 500, 780, 790, 1000]\n",
      "(99,) [10, 100, 500, 780, 790, 1000]\n",
      "(99,) [10, 100, 500, 780, 790, 1000]\n",
      "(99,) [10, 100, 500, 780, 790, 1000]\n",
      "(99,) [10, 100, 500, 780, 790, 1000]\n",
      "(99,) [10, 100, 500, 780, 790, 1000]\n",
      "(99,) [10, 100, 500, 780, 790, 1000]\n",
      "(99,) [10, 100, 500, 780, 790, 1000]\n",
      "(99,) [10, 100, 500, 780, 790, 1000]\n",
      "(99,) [10, 100, 500, 780, 790, 1000]\n",
      "(99,) [10, 100, 500, 780, 790, 1000]\n",
      "(99,) [10, 100, 500, 780, 790, 1000]\n",
      "(99,) [10, 100, 500, 780, 790, 1000]\n",
      "(99,) [10, 100, 500, 780, 790, 1000]\n",
      "(99,) [10, 100, 500, 780, 790, 1000]\n",
      "(99,) [10, 100, 500, 780, 790, 1000]\n",
      "(99,) [10, 100, 500, 780, 790, 1000]\n",
      "(99,) [10, 100, 500, 780, 790, 1000]\n",
      "(9,) [10, 100, 500, 780, 790, 1000]\n"
     ]
    },
    {
     "data": {
      "image/png": "[encoded data removed]",
      "text/plain": [
       "<Figure size 720x432 with 1 Axes>"
      ]
     },
     "metadata": {
      "needs_background": "light"
     },
     "output_type": "display_data"
    },
    {
     "data": {
      "text/plain": [
       "<Figure size 432x288 with 0 Axes>"
      ]
     },
     "metadata": {},
     "output_type": "display_data"
    }
   ],
   "source": [
    "import matplotlib.pyplot as plt\n",
    "import numpy as np\n",
    "\n",
    "from matplotlib import colors as mcolors\n",
    "\n",
    "units=[10,100,500,780,790,1000]#,5000]#,10000]\n",
    "#units=[500,780,790,1000,5000]#,10000]\n",
    "colors = list(dict(mcolors.BASE_COLORS, **mcolors.CSS4_COLORS).values())\n",
    "\n",
    "n_exp=5\n",
    "plt.figure(figsize=(10,6))\n",
    "\n",
    "terminal=[]\n",
    "un=[]\n",
    "n_epochs=-1\n",
    "folder=\"exp3/\"\n",
    "for c,hidden_units in enumerate(units):\n",
    "    for i in range(n_exp):\n",
    "        arr=np.load(folder+\"c5u\"+str(hidden_units)+\"-\"+str(i)+\".npy\")\n",
    "        \n",
    "        terminal.append(arr[-1])\n",
    "        un.append(hidden_units)\n",
    "        if len(arr) > n_epochs:\n",
    "            arr=arr[:n_epochs]\n",
    "        print(arr.shape, units)\n",
    "        if i==0:\n",
    "            plt.semilogy(arr, label=str(hidden_units), c=colors[c],alpha=0.5)\n",
    "        else:\n",
    "            plt.semilogy(arr,  c=colors[c],alpha=0.5)\n",
    "plt.legend()\n",
    "plt.show()\n",
    "plt.savefig(\"whole_dist_training.png\")"
   ]
  },
  {
   "cell_type": "code",
   "execution_count": 54,
   "metadata": {},
   "outputs": [
    {
     "data": {
      "text/plain": [
       "[<matplotlib.lines.Line2D at 0x26026041588>]"
      ]
     },
     "execution_count": 54,
     "metadata": {},
     "output_type": "execute_result"
    },
    {
     "data": {
      "image/png": "[encoded data removed]",
      "text/plain": [
       "<Figure size 432x288 with 1 Axes>"
      ]
     },
     "metadata": {
      "needs_background": "light"
     },
     "output_type": "display_data"
    }
   ],
   "source": [
    "means=[]\n",
    "for u in units:\n",
    "    means.append(np.mean(np.array(terminal)[np.where(np.array(un) == u)]))\n",
    "plt.plot(units,means,marker=\".\",markersize=10)"
   ]
  },
  {
   "cell_type": "code",
   "execution_count": 49,
   "metadata": {},
   "outputs": [
    {
     "data": {
      "text/plain": [
       "[3.106443565893487e-22, 2.1656698660361858e-21, 0.0, 0.0, 0.0, 0.0]"
      ]
     },
     "execution_count": 49,
     "metadata": {},
     "output_type": "execute_result"
    }
   ],
   "source": [
    "means"
   ]
  },
  {
   "cell_type": "code",
   "execution_count": 46,
   "metadata": {},
   "outputs": [
    {
     "data": {
      "text/plain": [
       "array([1.99941034e-22, 4.41611974e-22, 3.48963113e-22, 2.14430193e-22,\n",
       "       3.48275469e-22])"
      ]
     },
     "execution_count": 46,
     "metadata": {},
     "output_type": "execute_result"
    }
   ],
   "source": [
    "\n"
   ]
  },
  {
   "cell_type": "code",
   "execution_count": null,
   "metadata": {},
   "outputs": [],
   "source": []
  }
 ],
 "metadata": {
  "kernelspec": {
   "display_name": "Python 3",
   "language": "python",
   "name": "python3"
  },
  "language_info": {
   "codemirror_mode": {
    "name": "ipython",
    "version": 3
   },
   "file_extension": ".py",
   "mimetype": "text/x-python",
   "name": "python",
   "nbconvert_exporter": "python",
   "pygments_lexer": "ipython3",
   "version": "3.6.8"
  }
 },
 "nbformat": 4,
 "nbformat_minor": 2
}
